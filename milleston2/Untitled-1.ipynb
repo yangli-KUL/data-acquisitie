{
 "cells": [
  {
   "cell_type": "code",
   "execution_count": 2,
   "metadata": {},
   "outputs": [
    {
     "data": {
      "text/plain": [
       "0"
      ]
     },
     "execution_count": 2,
     "metadata": {},
     "output_type": "execute_result"
    }
   ],
   "source": [
    "import pigpio\n",
    "import time\n",
    "\n",
    "servo = 12\n",
    " \n",
    "pwm = pigpio.pi() \n",
    "pwm.set_mode(servo, pigpio.OUTPUT)\n",
    " \n",
    "pwm.set_PWM_frequency(servo, 50)\n",
    "pwm.set_PWM_range(servo, 20000) # 1,000,000 / 50 = 20,000us for 100% duty cycle\n",
    "pwm.hardware_PWM(servo, 50, 2000)"
   ]
  },
  {
   "cell_type": "code",
   "execution_count": 19,
   "metadata": {},
   "outputs": [],
   "source": [
    "\n",
    "for i in range(0,100):\n",
    "    pwm.hardware_PWM(servo, 50, 30000+i*500)\n",
    "    time.sleep(0.1)"
   ]
  },
  {
   "cell_type": "code",
   "execution_count": 30,
   "metadata": {},
   "outputs": [
    {
     "data": {
      "text/plain": [
       "0"
      ]
     },
     "execution_count": 30,
     "metadata": {},
     "output_type": "execute_result"
    }
   ],
   "source": [
    "pwm.hardware_PWM(servo, 50, 30000)"
   ]
  },
  {
   "cell_type": "code",
   "execution_count": null,
   "metadata": {},
   "outputs": [
    {
     "ename": "ValueError",
     "evalue": "invalid literal for int() with base 10: '--ip=127.0.0.1'",
     "output_type": "error",
     "traceback": [
      "\u001b[0;31m---------------------------------------------------------------------------\u001b[0m",
      "\u001b[0;31mValueError\u001b[0m                                Traceback (most recent call last)",
      "\u001b[0;32m/tmp/ipykernel_7346/974860249.py\u001b[0m in \u001b[0;36m<module>\u001b[0;34m\u001b[0m\n\u001b[1;32m     46\u001b[0m \u001b[0;34m\u001b[0m\u001b[0m\n\u001b[1;32m     47\u001b[0m \u001b[0;32mif\u001b[0m \u001b[0m__name__\u001b[0m \u001b[0;34m==\u001b[0m \u001b[0;34m'__main__'\u001b[0m\u001b[0;34m:\u001b[0m\u001b[0;34m\u001b[0m\u001b[0;34m\u001b[0m\u001b[0m\n\u001b[0;32m---> 48\u001b[0;31m     \u001b[0mmain\u001b[0m\u001b[0;34m(\u001b[0m\u001b[0;34m)\u001b[0m\u001b[0;34m\u001b[0m\u001b[0;34m\u001b[0m\u001b[0m\n\u001b[0m",
      "\u001b[0;32m/tmp/ipykernel_7346/974860249.py\u001b[0m in \u001b[0;36mmain\u001b[0;34m()\u001b[0m\n\u001b[1;32m     33\u001b[0m         \u001b[0msys\u001b[0m\u001b[0;34m.\u001b[0m\u001b[0mexit\u001b[0m\u001b[0;34m(\u001b[0m\u001b[0;36m1\u001b[0m\u001b[0;34m)\u001b[0m\u001b[0;34m\u001b[0m\u001b[0;34m\u001b[0m\u001b[0m\n\u001b[1;32m     34\u001b[0m \u001b[0;34m\u001b[0m\u001b[0m\n\u001b[0;32m---> 35\u001b[0;31m     \u001b[0mservo\u001b[0m \u001b[0;34m=\u001b[0m \u001b[0mGroveServo\u001b[0m\u001b[0;34m(\u001b[0m\u001b[0mint\u001b[0m\u001b[0;34m(\u001b[0m\u001b[0msys\u001b[0m\u001b[0;34m.\u001b[0m\u001b[0margv\u001b[0m\u001b[0;34m[\u001b[0m\u001b[0;36m1\u001b[0m\u001b[0;34m]\u001b[0m\u001b[0;34m)\u001b[0m\u001b[0;34m)\u001b[0m\u001b[0;34m\u001b[0m\u001b[0;34m\u001b[0m\u001b[0m\n\u001b[0m\u001b[1;32m     36\u001b[0m \u001b[0;34m\u001b[0m\u001b[0m\n\u001b[1;32m     37\u001b[0m     \u001b[0;32mwhile\u001b[0m \u001b[0;32mTrue\u001b[0m\u001b[0;34m:\u001b[0m\u001b[0;34m\u001b[0m\u001b[0;34m\u001b[0m\u001b[0m\n",
      "\u001b[0;31mValueError\u001b[0m: invalid literal for int() with base 10: '--ip=127.0.0.1'"
     ]
    }
   ],
   "source": [
    "import RPi.GPIO as IO\n",
    "import sys\n",
    "import time\n",
    "from numpy import interp\n",
    " \n",
    "IO.setwarnings(False)\n",
    "IO.setmode(IO.BCM)\n",
    " \n",
    "class GroveServo:\n",
    "    MIN_DEGREE = 0\n",
    "    MAX_DEGREE = 180\n",
    "    INIT_DUTY = 2.5\n",
    " \n",
    "    def __init__(self, channel):\n",
    "        IO.setup(channel,IO.OUT)\n",
    "        self.pwm = IO.PWM(channel,50)\n",
    "        self.pwm.start(GroveServo.INIT_DUTY)\n",
    " \n",
    "    def __del__(self):\n",
    "        self.pwm.stop()\n",
    " \n",
    "    def setAngle(self, angle):\n",
    "        # Map angle from range 0 ~ 180 to range 25 ~ 125\n",
    "        angle = max(min(angle, GroveServo.MAX_DEGREE), GroveServo.MIN_DEGREE)\n",
    "        tmp = interp(angle, [0, 180], [25, 125])\n",
    "        self.pwm.ChangeDutyCycle(round(tmp/10.0, 1))\n",
    " \n",
    "Grove = GroveServo\n",
    " \n",
    "def main():\n",
    "    if len(sys.argv) < 2:\n",
    "        print('Usage: {} servo_channel'.format(sys.argv[0]))\n",
    "        sys.exit(1)\n",
    " \n",
    "    servo = GroveServo(int(sys.argv[1]))\n",
    " \n",
    "    while True:\n",
    "        for x in range(0, 180):\n",
    "            print x, \"degree\"\n",
    "            servo.setAngle(x)\n",
    "            time.sleep(0.05)\n",
    "        for x in range(180, 0, -1):\n",
    "            print x, \"degree\"\n",
    "            servo.setAngle(x)\n",
    "            time.sleep(0.05)\n",
    " \n",
    "if __name__ == '__main__':\n",
    "    main()\n"
   ]
  }
 ],
 "metadata": {
  "interpreter": {
   "hash": "31f2aee4e71d21fbe5cf8b01ff0e069b9275f58929596ceb00d14d90e3e16cd6"
  },
  "kernelspec": {
   "display_name": "Python 3.7.3 32-bit",
   "name": "python3"
  },
  "language_info": {
   "codemirror_mode": {
    "name": "ipython",
    "version": 3
   },
   "file_extension": ".py",
   "mimetype": "text/x-python",
   "name": "python",
   "nbconvert_exporter": "python",
   "pygments_lexer": "ipython3",
   "version": "3.7.3"
  },
  "orig_nbformat": 4
 },
 "nbformat": 4,
 "nbformat_minor": 2
}
